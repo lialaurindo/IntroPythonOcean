{
  "nbformat": 4,
  "nbformat_minor": 0,
  "metadata": {
    "colab": {
      "name": "24012022 - Samsung Ocean.ipynb",
      "provenance": [],
      "authorship_tag": "ABX9TyPnOcYmSHI5+hNjU6QnxV/w",
      "include_colab_link": true
    },
    "kernelspec": {
      "name": "python3",
      "display_name": "Python 3"
    },
    "language_info": {
      "name": "python"
    }
  },
  "cells": [
    {
      "cell_type": "markdown",
      "metadata": {
        "id": "view-in-github",
        "colab_type": "text"
      },
      "source": [
        "<a href=\"https://colab.research.google.com/github/lialaurindo/IntroPythonOcean/blob/main/24012022_Samsung_Ocean.ipynb\" target=\"_parent\"><img src=\"https://colab.research.google.com/assets/colab-badge.svg\" alt=\"Open In Colab\"/></a>"
      ]
    },
    {
      "cell_type": "code",
      "execution_count": null,
      "metadata": {
        "colab": {
          "base_uri": "https://localhost:8080/"
        },
        "id": "frd2-vNXH0Rb",
        "outputId": "2f75749c-8abd-4600-8a5b-2655ea9f4e72"
      },
      "outputs": [
        {
          "output_type": "stream",
          "name": "stdout",
          "text": [
            "Mon Jan 24 17:29:59 2022\n"
          ]
        }
      ],
      "source": [
        "import time\n",
        "print(time.ctime())\n"
      ]
    },
    {
      "cell_type": "code",
      "source": [
        "time.sleep(5)\n",
        "print(time.ctime())"
      ],
      "metadata": {
        "colab": {
          "base_uri": "https://localhost:8080/"
        },
        "id": "dXn7ZbtyKVW3",
        "outputId": "74080ccb-86ae-43d4-c131-273a6dae767d"
      },
      "execution_count": null,
      "outputs": [
        {
          "output_type": "stream",
          "name": "stdout",
          "text": [
            "Mon Jan 24 17:38:31 2022\n"
          ]
        }
      ]
    },
    {
      "cell_type": "markdown",
      "source": [
        "$\\sqrt{3x-1}+(1+1)^2$\n",
        "\n",
        "\n"
      ],
      "metadata": {
        "id": "kuW0ecatOEiZ"
      }
    },
    {
      "cell_type": "code",
      "source": [
        "import torch\n",
        "Tensor = torch.cos()"
      ],
      "metadata": {
        "id": "litEafILWnMx"
      },
      "execution_count": null,
      "outputs": []
    },
    {
      "cell_type": "code",
      "source": [
        "%%html\n",
        "<marquee style='width: 50%; color: Green;'><b>Curso de Ciência de Dados</b></marquee>"
      ],
      "metadata": {
        "colab": {
          "base_uri": "https://localhost:8080/",
          "height": 39
        },
        "id": "GuRyfeKUXuO3",
        "outputId": "c51519e1-98b0-4f93-9081-adca248cb134"
      },
      "execution_count": null,
      "outputs": [
        {
          "output_type": "display_data",
          "data": {
            "text/html": [
              "<marquee style='width: 50%; color: Green;'><b>Curso de Ciência de Dados</b></marquee>"
            ],
            "text/plain": [
              "<IPython.core.display.HTML object>"
            ]
          },
          "metadata": {}
        }
      ]
    },
    {
      "cell_type": "code",
      "source": [
        ""
      ],
      "metadata": {
        "id": "Kh1PSIGZbcjU"
      },
      "execution_count": null,
      "outputs": []
    },
    {
      "cell_type": "code",
      "source": [
        ""
      ],
      "metadata": {
        "id": "StpXuS7nbcv_"
      },
      "execution_count": null,
      "outputs": []
    },
    {
      "cell_type": "code",
      "source": [
        ""
      ],
      "metadata": {
        "id": "DYJkP9WtacdX"
      },
      "execution_count": null,
      "outputs": []
    },
    {
      "cell_type": "code",
      "source": [
        "#@title Texto de título padrão\n"
      ],
      "metadata": {
        "id": "z1Smfl57ZwX_"
      },
      "execution_count": null,
      "outputs": []
    }
  ]
}